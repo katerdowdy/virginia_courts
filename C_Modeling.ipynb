{
 "cells": [
  {
   "cell_type": "markdown",
   "metadata": {},
   "source": [
    "# C_Modeling"
   ]
  },
  {
   "cell_type": "code",
   "execution_count": 1,
   "metadata": {},
   "outputs": [
    {
     "name": "stderr",
     "output_type": "stream",
     "text": [
      "/anaconda3/lib/python3.6/site-packages/sklearn/ensemble/weight_boosting.py:29: DeprecationWarning: numpy.core.umath_tests is an internal NumPy module and should not be imported. It will be removed in a future NumPy release.\n",
      "  from numpy.core.umath_tests import inner1d\n",
      "/anaconda3/lib/python3.6/site-packages/sklearn/cross_validation.py:41: DeprecationWarning: This module was deprecated in version 0.18 in favor of the model_selection module into which all the refactored classes and functions are moved. Also note that the interface of the new CV iterators are different from that of this module. This module will be removed in 0.20.\n",
      "  \"This module will be removed in 0.20.\", DeprecationWarning)\n"
     ]
    }
   ],
   "source": [
    "import pandas as pd\n",
    "import numpy as np\n",
    "import scipy.stats as stats\n",
    "import matplotlib.pyplot as plt\n",
    "import seaborn as sns\n",
    "import datetime as dt\n",
    "\n",
    "from sklearn.linear_model import LogisticRegression\n",
    "from sklearn.tree import DecisionTreeClassifier\n",
    "from sklearn.ensemble import RandomForestClassifier\n",
    "from sklearn.preprocessing import StandardScaler\n",
    "\n",
    "from sklearn.cross_validation import cross_val_score, train_test_split\n",
    "from sklearn.metrics import confusion_matrix\n",
    "\n",
    "%matplotlib inline\n",
    "\n",
    "np.random.seed(42)"
   ]
  },
  {
   "cell_type": "code",
   "execution_count": 2,
   "metadata": {},
   "outputs": [
    {
     "name": "stderr",
     "output_type": "stream",
     "text": [
      "/anaconda3/lib/python3.6/site-packages/IPython/core/interactiveshell.py:2785: DtypeWarning: Columns (35) have mixed types. Specify dtype option on import or set low_memory=False.\n",
      "  interactivity=interactivity, compiler=compiler, result=result)\n"
     ]
    }
   ],
   "source": [
    "df_full = pd.read_csv('./2017_full.csv')"
   ]
  },
  {
   "cell_type": "code",
   "execution_count": 3,
   "metadata": {},
   "outputs": [
    {
     "data": {
      "text/plain": [
       "['Unnamed: 0',\n",
       " 'level_0',\n",
       " 'index',\n",
       " 'HearingDate',\n",
       " 'HearingResult',\n",
       " 'HearingPlea',\n",
       " 'HearingContinuanceCode',\n",
       " 'HearingType',\n",
       " 'HearingCourtroom',\n",
       " 'fips',\n",
       " 'FiledDate',\n",
       " 'Locality',\n",
       " 'Status',\n",
       " 'DefenseAttorney',\n",
       " 'Address',\n",
       " 'Gender',\n",
       " 'Race',\n",
       " 'Charge',\n",
       " 'CodeSection',\n",
       " 'CaseType',\n",
       " 'Class',\n",
       " 'OffenseDate',\n",
       " 'ArrestDate',\n",
       " 'Complainant',\n",
       " 'AmendedCharge',\n",
       " 'AmendedCode',\n",
       " 'AmendedCaseType',\n",
       " 'FinalDisposition',\n",
       " 'SentenceTime',\n",
       " 'SentenceSuspendedTime',\n",
       " 'ProbationType',\n",
       " 'ProbationTime',\n",
       " 'ProbationStarts',\n",
       " 'OperatorLicenseSuspensionTime',\n",
       " 'RestrictionEffectiveDate',\n",
       " 'RestrictionEndDate',\n",
       " 'OperatorLicenseRestrictionCodes',\n",
       " 'Fine',\n",
       " 'Costs',\n",
       " 'FineCostsDue',\n",
       " 'FineCostsPaid',\n",
       " 'FineCostsPaidDate',\n",
       " 'VASAP',\n",
       " 'FineCostsPastDue',\n",
       " 'person_id',\n",
       " 'HadLawyer',\n",
       " 'PublicDefender',\n",
       " 'Contested',\n",
       " 'Outcome_Positive',\n",
       " 'Amended',\n",
       " 'Total_Positive',\n",
       " 'person_id_freq',\n",
       " 'prior_hearings',\n",
       " 'TimeSinceOffense',\n",
       " 'Court',\n",
       " 'full_fips',\n",
       " 'ChargeType']"
      ]
     },
     "execution_count": 3,
     "metadata": {},
     "output_type": "execute_result"
    }
   ],
   "source": [
    "list(df_full.columns)"
   ]
  },
  {
   "cell_type": "code",
   "execution_count": 4,
   "metadata": {},
   "outputs": [],
   "source": [
    "# dummying variables\n",
    "df_dummied = pd.get_dummies(df_full, columns = ['Court', 'Gender', 'Race',\n",
    "                                                'ChargeType'], drop_first = True)"
   ]
  },
  {
   "cell_type": "code",
   "execution_count": 5,
   "metadata": {},
   "outputs": [],
   "source": [
    "# slicing dataframe to just the records contested\n",
    "df_model = df_dummied[df_dummied['Contested'] == 1]"
   ]
  },
  {
   "cell_type": "code",
   "execution_count": 6,
   "metadata": {},
   "outputs": [],
   "source": [
    "# setting X and y variables\n",
    "y = df_model['Total_Positive']\n",
    "\n",
    "X = df_model.drop(columns = ['Unnamed: 0',\n",
    " 'level_0',\n",
    " 'index',\n",
    " 'HearingDate',\n",
    " 'HearingResult',\n",
    "  'HearingPlea',\n",
    " 'HearingContinuanceCode',\n",
    " 'HearingType',\n",
    " 'HearingCourtroom',\n",
    " 'fips',\n",
    " 'FiledDate',\n",
    " 'Locality',\n",
    " 'Status',\n",
    " 'DefenseAttorney',\n",
    " 'Address',\n",
    " 'Charge',\n",
    " 'CodeSection',\n",
    " 'CaseType',\n",
    " 'Class',\n",
    " 'OffenseDate',\n",
    " 'ArrestDate',\n",
    " 'Complainant',\n",
    " 'AmendedCharge',\n",
    " 'AmendedCode',\n",
    " 'AmendedCaseType',\n",
    " 'FinalDisposition',\n",
    " 'SentenceTime',\n",
    " 'SentenceSuspendedTime',\n",
    " 'ProbationType',\n",
    " 'ProbationTime',\n",
    " 'ProbationStarts',\n",
    " 'OperatorLicenseSuspensionTime',\n",
    " 'RestrictionEffectiveDate',\n",
    " 'RestrictionEndDate',\n",
    " 'OperatorLicenseRestrictionCodes',\n",
    " 'Fine',\n",
    " 'Costs',\n",
    " 'FineCostsDue',\n",
    " 'FineCostsPaid',\n",
    " 'FineCostsPaidDate',\n",
    " 'VASAP',\n",
    " 'FineCostsPastDue',\n",
    " 'person_id',\n",
    " #'HadLawyer',\n",
    " #'PublicDefender',\n",
    " 'Contested',\n",
    " 'Outcome_Positive',\n",
    " 'Amended',\n",
    " 'Total_Positive',\n",
    " 'person_id_freq',\n",
    " #'prior_hearings',\n",
    " 'TimeSinceOffense',\n",
    " 'full_fips'])"
   ]
  },
  {
   "cell_type": "code",
   "execution_count": 7,
   "metadata": {
    "scrolled": true
   },
   "outputs": [
    {
     "data": {
      "text/plain": [
       "HadLawyer                 0\n",
       "PublicDefender            0\n",
       "prior_hearings            0\n",
       "Court_Albemarle County    0\n",
       "Court_Alexandria City     0\n",
       "dtype: int64"
      ]
     },
     "execution_count": 7,
     "metadata": {},
     "output_type": "execute_result"
    }
   ],
   "source": [
    "# checking to make sure no nulls\n",
    "X.isnull().sum().head()"
   ]
  },
  {
   "cell_type": "code",
   "execution_count": 8,
   "metadata": {},
   "outputs": [
    {
     "data": {
      "text/plain": [
       "Index(['HadLawyer', 'PublicDefender', 'prior_hearings',\n",
       "       'Court_Albemarle County', 'Court_Alexandria City',\n",
       "       'Court_Alleghany County', 'Court_Amelia County', 'Court_Amherst County',\n",
       "       'Court_Appomatox County', 'Court_Arlington County',\n",
       "       ...\n",
       "       'ChargeType_MIS: Public Intoxication/Swearing',\n",
       "       'ChargeType_MIS: Reckless Driving',\n",
       "       'ChargeType_MIS: Resisting Arrest, Falsely Identifying, Obstruction',\n",
       "       'ChargeType_MIS: Speeding', 'ChargeType_MIS: Weapon-related Offense',\n",
       "       'ChargeType_VIOL: Animal Violations',\n",
       "       'ChargeType_VIOL: Boating Certification Issue',\n",
       "       'ChargeType_VIOL: Other',\n",
       "       'ChargeType_VIOL: Refused Blood/Breathalizer Test',\n",
       "       'ChargeType_VIOL: Smoking Violation'],\n",
       "      dtype='object', length=191)"
      ]
     },
     "execution_count": 8,
     "metadata": {},
     "output_type": "execute_result"
    }
   ],
   "source": [
    "# setting list of features\n",
    "features = X.columns\n",
    "features"
   ]
  },
  {
   "cell_type": "code",
   "execution_count": 9,
   "metadata": {},
   "outputs": [],
   "source": [
    "# train test split\n",
    "X_train, X_test, y_train, y_test = train_test_split(X, y, random_state = 42, stratify = y)"
   ]
  },
  {
   "cell_type": "code",
   "execution_count": 10,
   "metadata": {},
   "outputs": [
    {
     "data": {
      "text/plain": [
       "1    0.592879\n",
       "0    0.407121\n",
       "Name: Total_Positive, dtype: float64"
      ]
     },
     "execution_count": 10,
     "metadata": {},
     "output_type": "execute_result"
    }
   ],
   "source": [
    "# checking baseline (59% positive outcome)\n",
    "y_train.value_counts(normalize = True)"
   ]
  },
  {
   "cell_type": "code",
   "execution_count": 11,
   "metadata": {
    "scrolled": true
   },
   "outputs": [
    {
     "data": {
      "text/plain": [
       "1    0.592877\n",
       "0    0.407123\n",
       "Name: Total_Positive, dtype: float64"
      ]
     },
     "execution_count": 11,
     "metadata": {},
     "output_type": "execute_result"
    }
   ],
   "source": [
    "# same for test\n",
    "y_test.value_counts(normalize = True)"
   ]
  },
  {
   "cell_type": "code",
   "execution_count": 12,
   "metadata": {},
   "outputs": [],
   "source": [
    "# standard scale\n",
    "ss = StandardScaler()\n",
    "\n",
    "X_train_sc = ss.fit_transform(X_train)\n",
    "X_test_sc = ss.transform(X_test)"
   ]
  },
  {
   "cell_type": "markdown",
   "metadata": {},
   "source": [
    "### Logistic Regression"
   ]
  },
  {
   "cell_type": "code",
   "execution_count": 13,
   "metadata": {},
   "outputs": [],
   "source": [
    "logreg = LogisticRegression(penalty = 'l2')"
   ]
  },
  {
   "cell_type": "code",
   "execution_count": 14,
   "metadata": {},
   "outputs": [
    {
     "data": {
      "text/plain": [
       "LogisticRegression(C=1.0, class_weight=None, dual=False, fit_intercept=True,\n",
       "          intercept_scaling=1, max_iter=100, multi_class='ovr', n_jobs=1,\n",
       "          penalty='l2', random_state=None, solver='liblinear', tol=0.0001,\n",
       "          verbose=0, warm_start=False)"
      ]
     },
     "execution_count": 14,
     "metadata": {},
     "output_type": "execute_result"
    }
   ],
   "source": [
    "logreg.fit(X_train_sc, y_train)"
   ]
  },
  {
   "cell_type": "code",
   "execution_count": 15,
   "metadata": {},
   "outputs": [
    {
     "name": "stdout",
     "output_type": "stream",
     "text": [
      "Train CV Scores: [0.64932462 0.64684142 0.64730504]\n",
      "Average Train CV Score: 0.6478236923175554\n"
     ]
    }
   ],
   "source": [
    "cv_scores = cross_val_score(logreg, X_train_sc, y_train)\n",
    "print(\"Train CV Scores:\", cv_scores)\n",
    "print(\"Average Train CV Score:\", cv_scores.mean())"
   ]
  },
  {
   "cell_type": "code",
   "execution_count": 16,
   "metadata": {},
   "outputs": [
    {
     "name": "stdout",
     "output_type": "stream",
     "text": [
      "Test CV Scores: [0.64874309 0.64680026 0.64815409]\n",
      "Average Test CV Score: 0.6478991468640851\n"
     ]
    }
   ],
   "source": [
    "cv_scores = cross_val_score(logreg, X_test_sc, y_test)\n",
    "print(\"Test CV Scores:\", cv_scores)\n",
    "print(\"Average Test CV Score:\", cv_scores.mean())"
   ]
  },
  {
   "cell_type": "markdown",
   "metadata": {},
   "source": [
    "Our train and test scores are pretty close so I don't think there's overfitting here. Accuracy is about 5% over baseline, which isn't great but also not terrible."
   ]
  },
  {
   "cell_type": "code",
   "execution_count": 17,
   "metadata": {},
   "outputs": [],
   "source": [
    "coefficients = logreg.coef_"
   ]
  },
  {
   "cell_type": "code",
   "execution_count": 18,
   "metadata": {},
   "outputs": [],
   "source": [
    "coef_df = pd.DataFrame(coefficients, columns = features).T"
   ]
  },
  {
   "cell_type": "code",
   "execution_count": 19,
   "metadata": {},
   "outputs": [],
   "source": [
    "def log_odds(x):\n",
    "    return np.exp(x)"
   ]
  },
  {
   "cell_type": "code",
   "execution_count": 20,
   "metadata": {},
   "outputs": [],
   "source": [
    "coef_df['change_odds_ratio'] = coef_df.apply(lambda x: log_odds(x))"
   ]
  },
  {
   "cell_type": "code",
   "execution_count": 21,
   "metadata": {},
   "outputs": [],
   "source": [
    "coef_df.rename(columns = {0: 'logreg_coefficient'}, inplace = True)"
   ]
  },
  {
   "cell_type": "code",
   "execution_count": 22,
   "metadata": {},
   "outputs": [
    {
     "data": {
      "text/html": [
       "<div>\n",
       "<style scoped>\n",
       "    .dataframe tbody tr th:only-of-type {\n",
       "        vertical-align: middle;\n",
       "    }\n",
       "\n",
       "    .dataframe tbody tr th {\n",
       "        vertical-align: top;\n",
       "    }\n",
       "\n",
       "    .dataframe thead th {\n",
       "        text-align: right;\n",
       "    }\n",
       "</style>\n",
       "<table border=\"1\" class=\"dataframe\">\n",
       "  <thead>\n",
       "    <tr style=\"text-align: right;\">\n",
       "      <th></th>\n",
       "      <th>logreg_coefficient</th>\n",
       "      <th>change_odds_ratio</th>\n",
       "    </tr>\n",
       "  </thead>\n",
       "  <tbody>\n",
       "    <tr>\n",
       "      <th>Race_Black(Non-Hispanic)</th>\n",
       "      <td>-0.293837</td>\n",
       "      <td>0.745398</td>\n",
       "    </tr>\n",
       "    <tr>\n",
       "      <th>Race_White Caucasian(Non-Hispanic)</th>\n",
       "      <td>-0.209305</td>\n",
       "      <td>0.811148</td>\n",
       "    </tr>\n",
       "    <tr>\n",
       "      <th>Race_Hispanic</th>\n",
       "      <td>-0.191559</td>\n",
       "      <td>0.825671</td>\n",
       "    </tr>\n",
       "    <tr>\n",
       "      <th>ChargeType_MIS: DWI/DUI</th>\n",
       "      <td>-0.143271</td>\n",
       "      <td>0.866519</td>\n",
       "    </tr>\n",
       "    <tr>\n",
       "      <th>ChargeType_INF: Seatbelt</th>\n",
       "      <td>-0.135763</td>\n",
       "      <td>0.873050</td>\n",
       "    </tr>\n",
       "  </tbody>\n",
       "</table>\n",
       "</div>"
      ],
      "text/plain": [
       "                                    logreg_coefficient  change_odds_ratio\n",
       "Race_Black(Non-Hispanic)                     -0.293837           0.745398\n",
       "Race_White Caucasian(Non-Hispanic)           -0.209305           0.811148\n",
       "Race_Hispanic                                -0.191559           0.825671\n",
       "ChargeType_MIS: DWI/DUI                      -0.143271           0.866519\n",
       "ChargeType_INF: Seatbelt                     -0.135763           0.873050"
      ]
     },
     "execution_count": 22,
     "metadata": {},
     "output_type": "execute_result"
    }
   ],
   "source": [
    "coef_df.sort_values(by = 'logreg_coefficient').head()"
   ]
  },
  {
   "cell_type": "markdown",
   "metadata": {},
   "source": [
    "According to the Logistic Regression, race (Black, White, and Latino), and getting charged with a DWI/DUI or Seatbelt Infraction are the most negative coefficients."
   ]
  },
  {
   "cell_type": "code",
   "execution_count": 23,
   "metadata": {},
   "outputs": [
    {
     "data": {
      "text/html": [
       "<div>\n",
       "<style scoped>\n",
       "    .dataframe tbody tr th:only-of-type {\n",
       "        vertical-align: middle;\n",
       "    }\n",
       "\n",
       "    .dataframe tbody tr th {\n",
       "        vertical-align: top;\n",
       "    }\n",
       "\n",
       "    .dataframe thead th {\n",
       "        text-align: right;\n",
       "    }\n",
       "</style>\n",
       "<table border=\"1\" class=\"dataframe\">\n",
       "  <thead>\n",
       "    <tr style=\"text-align: right;\">\n",
       "      <th></th>\n",
       "      <th>logreg_coefficient</th>\n",
       "      <th>change_odds_ratio</th>\n",
       "    </tr>\n",
       "  </thead>\n",
       "  <tbody>\n",
       "    <tr>\n",
       "      <th>ChargeType_MIS: Speeding</th>\n",
       "      <td>0.212313</td>\n",
       "      <td>1.236535</td>\n",
       "    </tr>\n",
       "    <tr>\n",
       "      <th>ChargeType_INF: License/Permit/Tag Issues</th>\n",
       "      <td>0.226128</td>\n",
       "      <td>1.253737</td>\n",
       "    </tr>\n",
       "    <tr>\n",
       "      <th>HadLawyer</th>\n",
       "      <td>0.236600</td>\n",
       "      <td>1.266934</td>\n",
       "    </tr>\n",
       "    <tr>\n",
       "      <th>ChargeType_INF: Speeding</th>\n",
       "      <td>0.322679</td>\n",
       "      <td>1.380822</td>\n",
       "    </tr>\n",
       "    <tr>\n",
       "      <th>ChargeType_INF: Expired Registration/Inspection</th>\n",
       "      <td>0.441684</td>\n",
       "      <td>1.555324</td>\n",
       "    </tr>\n",
       "  </tbody>\n",
       "</table>\n",
       "</div>"
      ],
      "text/plain": [
       "                                                 logreg_coefficient  \\\n",
       "ChargeType_MIS: Speeding                                   0.212313   \n",
       "ChargeType_INF: License/Permit/Tag Issues                  0.226128   \n",
       "HadLawyer                                                  0.236600   \n",
       "ChargeType_INF: Speeding                                   0.322679   \n",
       "ChargeType_INF: Expired Registration/Inspection            0.441684   \n",
       "\n",
       "                                                 change_odds_ratio  \n",
       "ChargeType_MIS: Speeding                                  1.236535  \n",
       "ChargeType_INF: License/Permit/Tag Issues                 1.253737  \n",
       "HadLawyer                                                 1.266934  \n",
       "ChargeType_INF: Speeding                                  1.380822  \n",
       "ChargeType_INF: Expired Registration/Inspection           1.555324  "
      ]
     },
     "execution_count": 23,
     "metadata": {},
     "output_type": "execute_result"
    }
   ],
   "source": [
    "coef_df.sort_values(by = 'logreg_coefficient').tail()"
   ]
  },
  {
   "cell_type": "markdown",
   "metadata": {},
   "source": [
    "According to the Logistic Regression, the most positive coefficients are getting charged with speeding, license/permit issues, and expired registration/inspection infractions, and having a lawyer. "
   ]
  },
  {
   "cell_type": "markdown",
   "metadata": {},
   "source": [
    "##### Evaluating Confusion Matrix"
   ]
  },
  {
   "cell_type": "code",
   "execution_count": 24,
   "metadata": {},
   "outputs": [
    {
     "data": {
      "text/plain": [
       "array([[0.33605709, 0.66394291],\n",
       "       [0.33848645, 0.66151355],\n",
       "       [0.58343697, 0.41656303],\n",
       "       ...,\n",
       "       [0.39069661, 0.60930339],\n",
       "       [0.64348126, 0.35651874],\n",
       "       [0.3349075 , 0.6650925 ]])"
      ]
     },
     "execution_count": 24,
     "metadata": {},
     "output_type": "execute_result"
    }
   ],
   "source": [
    "prob_preds = logreg.predict_proba(X_test_sc)\n",
    "prob_preds"
   ]
  },
  {
   "cell_type": "code",
   "execution_count": 25,
   "metadata": {},
   "outputs": [
    {
     "data": {
      "image/png": "[encoded data removed]",
      "text/plain": [
       "<Figure size 432x288 with 1 Axes>"
      ]
     },
     "metadata": {},
     "output_type": "display_data"
    }
   ],
   "source": [
    "plt.hist(prob_preds, bins = 20)\n",
    "plt.legend(['prob. defense loses', 'prob. defense wins']);"
   ]
  },
  {
   "cell_type": "code",
   "execution_count": 26,
   "metadata": {},
   "outputs": [],
   "source": [
    "outcome_preds = logreg.predict(X_test_sc)"
   ]
  },
  {
   "cell_type": "code",
   "execution_count": 27,
   "metadata": {},
   "outputs": [
    {
     "data": {
      "text/plain": [
       "array([[ 39462,  59458],\n",
       "       [ 26102, 117951]])"
      ]
     },
     "execution_count": 27,
     "metadata": {},
     "output_type": "execute_result"
    }
   ],
   "source": [
    "confusion_matrix(y_test, outcome_preds)"
   ]
  },
  {
   "cell_type": "code",
   "execution_count": 28,
   "metadata": {
    "scrolled": true
   },
   "outputs": [
    {
     "name": "stdout",
     "output_type": "stream",
     "text": [
      "True Negatives: 39462\n",
      "False Positives: 59458\n",
      "False Negatives: 26102\n",
      "True Positives: 117951\n",
      "-----\n",
      "Accuracy: 0.6478621081354718\n",
      "Misclassification Rate: 0.35213789186452815\n",
      "-----\n",
      "Sensitivity/Recall (True Positive Rate): 0.8188028017465794\n",
      "Specificity (True Negative Rate): 0.39892842701172665\n",
      "False Positive Rate: 0.41275086252976334\n",
      "Precision: 0.6648535305424189\n"
     ]
    }
   ],
   "source": [
    "tn, fp, fn, tp = confusion_matrix(y_test, outcome_preds).ravel()\n",
    "print(\"True Negatives: %s\" % tn)\n",
    "print(\"False Positives: %s\" % fp)\n",
    "print(\"False Negatives: %s\" % fn)\n",
    "print(\"True Positives: %s\" % tp)\n",
    "print(\"-----\")\n",
    "print(\"Accuracy: %s\" % ((tp + tn) / (tn + fp + fn + tp)))\n",
    "print(\"Misclassification Rate: %s\" % ((fp + fn) / (tn + fp + fn + tp)))\n",
    "print(\"-----\")\n",
    "print(\"Sensitivity/Recall (True Positive Rate): %s\" % ((tp) / (tp + fn)))\n",
    "print(\"Specificity (True Negative Rate): %s\" % ((tn) / (tn + fp)))\n",
    "print(\"False Positive Rate: %s\" % ((fp) / (tp + fn)))\n",
    "print(\"Precision: %s\" % ((tp) / (tp + fp)))"
   ]
  },
  {
   "cell_type": "markdown",
   "metadata": {},
   "source": [
    "If we were to use a model to make recommendations to people who didn't have to contest their charges on whether or not to go to court (and risk having to pay court fees on top of their fines and a lawyer), we would want to be minimizing our False Positives (so get our Precision rate closer to 1.)"
   ]
  },
  {
   "cell_type": "markdown",
   "metadata": {},
   "source": [
    "## Decision Tree"
   ]
  },
  {
   "cell_type": "code",
   "execution_count": 29,
   "metadata": {},
   "outputs": [],
   "source": [
    "dt = DecisionTreeClassifier()"
   ]
  },
  {
   "cell_type": "code",
   "execution_count": 30,
   "metadata": {},
   "outputs": [
    {
     "data": {
      "text/plain": [
       "DecisionTreeClassifier(class_weight=None, criterion='gini', max_depth=None,\n",
       "            max_features=None, max_leaf_nodes=None,\n",
       "            min_impurity_decrease=0.0, min_impurity_split=None,\n",
       "            min_samples_leaf=1, min_samples_split=2,\n",
       "            min_weight_fraction_leaf=0.0, presort=False, random_state=None,\n",
       "            splitter='best')"
      ]
     },
     "execution_count": 30,
     "metadata": {},
     "output_type": "execute_result"
    }
   ],
   "source": [
    "dt.fit(X_train_sc, y_train)"
   ]
  },
  {
   "cell_type": "code",
   "execution_count": 31,
   "metadata": {},
   "outputs": [
    {
     "name": "stdout",
     "output_type": "stream",
     "text": [
      "Train CV Scores: [0.66183213 0.66000337 0.65950809]\n",
      "Average Train CV Score: 0.6604478655048932\n"
     ]
    }
   ],
   "source": [
    "# training scores\n",
    "cv_scores = cross_val_score(dt, X_train_sc, y_train)\n",
    "print(\"Train CV Scores:\", cv_scores)\n",
    "print(\"Average Train CV Score:\", cv_scores.mean())"
   ]
  },
  {
   "cell_type": "code",
   "execution_count": 32,
   "metadata": {},
   "outputs": [
    {
     "name": "stdout",
     "output_type": "stream",
     "text": [
      "Test CV Scores: [0.64874309 0.64680026 0.64815409]\n",
      "Average Test CV Score: 0.6478991468640851\n"
     ]
    }
   ],
   "source": [
    "# test scores\n",
    "cv_scores = cross_val_score(logreg, X_test_sc, y_test)\n",
    "print(\"Test CV Scores:\", cv_scores)\n",
    "print(\"Average Test CV Score:\", cv_scores.mean())"
   ]
  },
  {
   "cell_type": "markdown",
   "metadata": {},
   "source": [
    "The Decision Tree doesn't seem to be doing better than the Logistic Regression on the test data; I think the existing model is too simple."
   ]
  },
  {
   "cell_type": "code",
   "execution_count": 33,
   "metadata": {},
   "outputs": [
    {
     "data": {
      "text/plain": [
       "191"
      ]
     },
     "execution_count": 33,
     "metadata": {},
     "output_type": "execute_result"
    }
   ],
   "source": [
    "dt.n_features_"
   ]
  },
  {
   "cell_type": "code",
   "execution_count": 34,
   "metadata": {},
   "outputs": [],
   "source": [
    "importances = dt.feature_importances_\n",
    "importance_dict = dict(zip(features, importances))"
   ]
  },
  {
   "cell_type": "code",
   "execution_count": 35,
   "metadata": {},
   "outputs": [
    {
     "data": {
      "text/plain": [
       "{'HadLawyer': 0.046888600894841884,\n",
       " 'PublicDefender': 0.0139380890356805,\n",
       " 'prior_hearings': 0.14033090679332494,\n",
       " 'Court_Albemarle County': 0.00477692369987204,\n",
       " 'Court_Alexandria City': 0.005441427354724118,\n",
       " 'Court_Alleghany County': 0.0018873896807681178,\n",
       " 'Court_Amelia County': 0.0013748987557939951,\n",
       " 'Court_Amherst County': 0.0025700946424700483,\n",
       " 'Court_Appomatox County': 0.0013763653406624879,\n",
       " 'Court_Arlington County': 0.004843699639094628,\n",
       " 'Court_Augusta County': 0.003495467331180993,\n",
       " 'Court_Bath County': 0.0007254007730185322,\n",
       " 'Court_Bedford County': 0.0025394096052179407,\n",
       " 'Court_Bland County': 0.0035811151799375954,\n",
       " 'Court_Botetourt County': 0.0021882352388731094,\n",
       " 'Court_Bristol City': 0.0018753599163020293,\n",
       " 'Court_Brunswick County': 0.0044855161404362106,\n",
       " 'Court_Buchanan County': 0.001599722031381701,\n",
       " 'Court_Buckingham County': 0.0014393430635976476,\n",
       " 'Court_Buena Vista City': 0.0010309456696787859,\n",
       " 'Court_Campbell County': 0.0024704820093603163,\n",
       " 'Court_Caroline County': 0.0023978057720033144,\n",
       " 'Court_Carroll County': 0.0031229901169503647,\n",
       " 'Court_Charles City County': 0.0006497097825087597,\n",
       " 'Court_Charlotte County': 0.0012684728708542512,\n",
       " 'Court_Charlottesville City': 0.004095198397779001,\n",
       " 'Court_Chesapeake City': 0.005515109520281666,\n",
       " 'Court_Chesterfield County': 0.0074937465135083885,\n",
       " 'Court_Clarke County': 0.001570274442950154,\n",
       " 'Court_Colonial Heights City': 0.004914240586961343,\n",
       " 'Court_Craig County': 0.0005832592957302619,\n",
       " 'Court_Culpeper County': 0.0032765081351151123,\n",
       " 'Court_Cumberland County': 0.0016416044417197752,\n",
       " 'Court_Danville City': 0.002650053870555965,\n",
       " 'Court_Dickenson County': 0.0010603064725150223,\n",
       " 'Court_Dinwiddie County': 0.0024428101019643034,\n",
       " 'Court_Emporia City': 0.0028090071720308727,\n",
       " 'Court_Essex County': 0.0015599341467125956,\n",
       " 'Court_Fairfax City': 0.002357953625417112,\n",
       " 'Court_Fairfax County': 0.022572790993938538,\n",
       " 'Court_Falls Church City': 0.0012200106286519683,\n",
       " 'Court_Fauquier County': 0.005614622079844718,\n",
       " 'Court_Floyd County': 0.0009667343370344127,\n",
       " 'Court_Fluvanna County': 0.0018910481227215738,\n",
       " 'Court_Franklin City': 0.0012060413408577972,\n",
       " 'Court_Franklin County': 0.003011456920089435,\n",
       " 'Court_Frederick County': 0.003309805494048369,\n",
       " 'Court_Fredericksburg City': 0.002973761910214409,\n",
       " 'Court_Galax City': 0.0016733141162821488,\n",
       " 'Court_Giles County': 0.0026274475195182763,\n",
       " 'Court_Gloucester County': 0.0023277007850745443,\n",
       " 'Court_Goochland County': 0.0018309791446780106,\n",
       " 'Court_Grayson County': 0.0014383452082218234,\n",
       " 'Court_Greene County': 0.002184053502614255,\n",
       " 'Court_Greensville County': 0.01306909224370655,\n",
       " 'Court_Halifax County': 0.002402704822213257,\n",
       " 'Court_Hampton City': 0.004589471179547931,\n",
       " 'Court_Hanover County': 0.004006375753139354,\n",
       " 'Court_Henrico County': 0.0054072213769585,\n",
       " 'Court_Henry County': 0.0031665103730324873,\n",
       " 'Court_Highland County': 0.00044564523686179926,\n",
       " 'Court_Hopewell City': 0.0033514526660980448,\n",
       " 'Court_Isle of Wight County': 0.0028488863271997236,\n",
       " 'Court_King George County': 0.0025443882653832495,\n",
       " 'Court_King William County': 0.0013842856643401075,\n",
       " 'Court_King and Queen County': 0.0012522755910607053,\n",
       " 'Court_Lancaster County': 0.0014094925013619973,\n",
       " 'Court_Lee County': 0.002272517075509597,\n",
       " 'Court_Loudoun County': 0.009597279215102032,\n",
       " 'Court_Louisa County': 0.0024368198406288476,\n",
       " 'Court_Lunenburg County': 0.0014483766665778753,\n",
       " 'Court_Lynchburg City': 0.0030377897092158596,\n",
       " 'Court_Madison County': 0.0014787355807053132,\n",
       " 'Court_Martinsville City': 0.0024185100770193657,\n",
       " 'Court_Mathews County': 0.0008877239827677572,\n",
       " 'Court_Mecklenburg County': 0.002506283235477803,\n",
       " 'Court_Middlesex County': 0.0008355131865847084,\n",
       " 'Court_Montgomery County': 0.0033396101677023145,\n",
       " 'Court_Nelson County': 0.0013982188664469657,\n",
       " 'Court_New Kent County': 0.002237584446072978,\n",
       " 'Court_Newport News City': 0.00472038777740685,\n",
       " 'Court_Norfolk City': 0.0058512530401810744,\n",
       " 'Court_Northampton County': 0.0026410322894318003,\n",
       " 'Court_Northumberland County': 0.0014387005195304052,\n",
       " 'Court_Nottoway County': 0.0018498386244620063,\n",
       " 'Court_Orange County': 0.002383438512091838,\n",
       " 'Court_Page County': 0.002122526784275463,\n",
       " 'Court_Patrick County': 0.002172130988466785,\n",
       " 'Court_Petersburg City': 0.0032452726419193163,\n",
       " 'Court_Pittsylvania County': 0.002461607366359052,\n",
       " 'Court_Portsmouth City': 0.004650075971152596,\n",
       " 'Court_Powhatan County': 0.0017851531499226477,\n",
       " 'Court_Prince Edward County': 0.002366230884856839,\n",
       " 'Court_Prince George County': 0.0027265284720922375,\n",
       " 'Court_Prince William County': 0.00558948488292017,\n",
       " 'Court_Pulaski County': 0.0029306890831822287,\n",
       " 'Court_Radford City': 0.0022439394586041446,\n",
       " 'Court_Rappahannock County': 0.0008136960261519208,\n",
       " 'Court_Richmond City': 0.004934079610859841,\n",
       " 'Court_Richmond County': 0.001264533640556594,\n",
       " 'Court_Roanoke City': 0.0037435951762861005,\n",
       " 'Court_Roanoke County': 0.003565466018664694,\n",
       " 'Court_Rockbridge County': 0.0028038074646138584,\n",
       " 'Court_Rockingham County': 0.003670964155214031,\n",
       " 'Court_Russell County': 0.0017446846293009896,\n",
       " 'Court_Salem City': 0.0021061858679951705,\n",
       " 'Court_Scott County': 0.002070329620818653,\n",
       " 'Court_Shenandoah County': 0.003106545946965795,\n",
       " 'Court_Smyth County': 0.0024162649226466145,\n",
       " 'Court_Southampton County': 0.0021365750714590938,\n",
       " 'Court_Spotsylvania County': 0.003950298278279532,\n",
       " 'Court_Stafford County': 0.004392597351854771,\n",
       " 'Court_Staunton City': 0.0018931389666884217,\n",
       " 'Court_Suffolk City': 0.0033664107524732263,\n",
       " 'Court_Surry County': 0.001039319395168359,\n",
       " 'Court_Sussex County': 0.008600371333604076,\n",
       " 'Court_Tazewell County': 0.0020136481281338614,\n",
       " 'Court_Virginia Beach City': 0.008875714201966577,\n",
       " 'Court_Warren County': 0.0032252753229611987,\n",
       " 'Court_Washington County': 0.002704093670493046,\n",
       " 'Court_Waynesboro City': 0.0017019031246657923,\n",
       " 'Court_Westmoreland County': 0.002069441282228827,\n",
       " 'Court_Williamsburg City': 0.0034841124910811564,\n",
       " 'Court_Winchester City': 0.0024129111372059816,\n",
       " 'Court_Wise County': 0.003731244204908726,\n",
       " 'Court_Wythe County': 0.003947390745044029,\n",
       " 'Court_York County': 0.002803821640738037,\n",
       " 'Gender_Male': 0.03694635568299574,\n",
       " 'Race_Asian Or Pacific Islander': 0.005534892798227813,\n",
       " 'Race_Black(Non-Hispanic)': 0.023469617197341145,\n",
       " 'Race_Hispanic': 0.010549285629285142,\n",
       " 'Race_Other(Includes Not Applicable, Unknown)': 0.008654481962555962,\n",
       " 'Race_White Caucasian(Non-Hispanic)': 0.024435222126128225,\n",
       " 'ChargeType_FEL: Bomb Threat & Arson': 0.0009395289203058117,\n",
       " 'ChargeType_FEL: Burglary & Breaking and Entering': 0.0024330470719355,\n",
       " 'ChargeType_FEL: DWI/DUI': 0.0011486820610453405,\n",
       " 'ChargeType_FEL: Destruction of Property/Failure to Stop Accident': 0.0016138158362447737,\n",
       " 'ChargeType_FEL: False Statement on Criminal History': 0.0007123171187541029,\n",
       " 'ChargeType_FEL: Forgery, Fraud, Extortion, Credit Card & Identity Theft': 0.005736577294400356,\n",
       " 'ChargeType_FEL: Fugitive, Avoiding Arrest, Violate Probation': 0.004484601566554484,\n",
       " 'ChargeType_FEL: Illegal Firearm/Weapon': 0.003931393106214302,\n",
       " 'ChargeType_FEL: Larceny/Embezzlement': 0.0041934738942185764,\n",
       " 'ChargeType_FEL: Malicious Injury, Assault & Abduction': 0.002602775427113623,\n",
       " 'ChargeType_FEL: Manufacture/Distribute Controlled Substance': 0.003767597884474364,\n",
       " 'ChargeType_FEL: Murder': 0.0008029831173038929,\n",
       " 'ChargeType_FEL: Other': 0.003433269535880062,\n",
       " 'ChargeType_FEL: Possessing/Obtaining Drugs': 0.007755139423249687,\n",
       " 'ChargeType_FEL: Rape, Sexual Assault & Child Porn': 0.0014473612214417155,\n",
       " 'ChargeType_FEL: Stealing & Petit Larceny': 0.0031471088643331927,\n",
       " 'ChargeType_FEL: Vehicle-Related': 0.0023245630830524156,\n",
       " 'ChargeType_INF: Bad Driving': 0.003912980588207995,\n",
       " 'ChargeType_INF: Defective/Illegal Equipment': 0.007468340310286394,\n",
       " 'ChargeType_INF: Expired Registration/Inspection': 0.04005227903604932,\n",
       " 'ChargeType_INF: Failure to Pay On Time/Correct Defects': 0.0010529368467489285,\n",
       " 'ChargeType_INF: Failure to Stop': 0.003995346701794164,\n",
       " 'ChargeType_INF: Failure to Yield/Obey Highway Sign': 0.006850715831272171,\n",
       " 'ChargeType_INF: HOV Violation': 0.0004894029720249353,\n",
       " 'ChargeType_INF: Illegal Radar/Traffic Control Device': 0.0007976242957489243,\n",
       " 'ChargeType_INF: License/Permit/Tag Issues': 0.010921322137144564,\n",
       " 'ChargeType_INF: Other': 0.003604330508904185,\n",
       " 'ChargeType_INF: Seatbelt': 0.020057606925928912,\n",
       " 'ChargeType_INF: Speeding': 0.02611977568763722,\n",
       " 'ChargeType_INF: Texting/Earphones/Bad Control While Driving': 0.0011909705234166082,\n",
       " 'ChargeType_INF: Tinted Windows/Windshield Issues': 0.004874503721594539,\n",
       " 'ChargeType_MIS: Alcohol-related': 0.003305003638562697,\n",
       " 'ChargeType_MIS: Animal Cruelty/Neglect': 0.003094935259184584,\n",
       " 'ChargeType_MIS: Assault': 0.006848769246728894,\n",
       " 'ChargeType_MIS: Bad Driving': 0.0019174895258708717,\n",
       " 'ChargeType_MIS: DWI/DUI': 0.01507656451735755,\n",
       " 'ChargeType_MIS: Destruction of Property': 0.002642936305908352,\n",
       " 'ChargeType_MIS: Driving Suspended License': 0.014537903641364591,\n",
       " 'ChargeType_MIS: Drug-related Offenses': 0.0062724749546103345,\n",
       " 'ChargeType_MIS: Dumping Trash/Littering': 0.001466371685380959,\n",
       " 'ChargeType_MIS: Failure to Appear': 0.0026025104287294857,\n",
       " 'ChargeType_MIS: Fishing/Hunting Violation': 0.0017762193887328672,\n",
       " 'ChargeType_MIS: Forgery, Altered Plates, Identity Theft, Bad Check': 0.005845076742531757,\n",
       " 'ChargeType_MIS: Hit and Run': 0.001475643507264273,\n",
       " 'ChargeType_MIS: Inspection/Insurance/Safety Equipment Violation': 0.0016223899456176052,\n",
       " 'ChargeType_MIS: Larceny & Obtaining Money Under False Pretenses': 0.006781436730514945,\n",
       " 'ChargeType_MIS: No License/Registration/Insurance': 0.01006869474455888,\n",
       " 'ChargeType_MIS: Other': 0.003907438667616278,\n",
       " 'ChargeType_MIS: Public Intoxication/Swearing': 0.0005561308096741366,\n",
       " 'ChargeType_MIS: Reckless Driving': 0.007626653588240252,\n",
       " 'ChargeType_MIS: Resisting Arrest, Falsely Identifying, Obstruction': 0.004210786096071227,\n",
       " 'ChargeType_MIS: Speeding': 0.01976461176066417,\n",
       " 'ChargeType_MIS: Weapon-related Offense': 0.0025367409073481636,\n",
       " 'ChargeType_VIOL: Animal Violations': 0.0004053188834027598,\n",
       " 'ChargeType_VIOL: Boating Certification Issue': 0.0003020612983535228,\n",
       " 'ChargeType_VIOL: Other': 0.00019574026448178312,\n",
       " 'ChargeType_VIOL: Refused Blood/Breathalizer Test': 0.004646337794439492,\n",
       " 'ChargeType_VIOL: Smoking Violation': 0.00040556791480870764}"
      ]
     },
     "execution_count": 35,
     "metadata": {},
     "output_type": "execute_result"
    }
   ],
   "source": [
    "importance_dict"
   ]
  },
  {
   "cell_type": "markdown",
   "metadata": {},
   "source": [
    "The features that had the greatest feature importance weight: \n",
    "- 'prior_hearings': 0.1403\n",
    "- 'HadLawyer': 0.0468\n",
    "- 'ChargeType_INF: Expired Registration/Inspection': 0.0400\n",
    "- 'Gender_Male': 0.0370\n",
    "- 'ChargeType_INF: Speeding': 0.0260\n",
    "- 'Race_White Caucasian(Non-Hispanic)': 0.0243\n",
    "- 'Race_Black(Non-Hispanic)': 0.0235\n",
    "- 'Court_Fairfax County': 0.0225\n",
    "- 'ChargeType_INF: Seatbelt': 0.0200\n",
    "- 'ChargeType_MIS: DWI/DUI': 0.0150\n",
    "- 'PublicDefender': 0.0138\n",
    "- 'Court_Greensville County': 0.0130\n",
    "- 'ChargeType_INF: License/Permit/Tag Issues': 0.0109\n",
    "- 'Race_Hispanic': 0.0105\n",
    "- 'ChargeType_MIS: No License/Registration/Insurance': 0.0101"
   ]
  },
  {
   "cell_type": "markdown",
   "metadata": {},
   "source": [
    "## Random Forest"
   ]
  },
  {
   "cell_type": "code",
   "execution_count": 36,
   "metadata": {},
   "outputs": [],
   "source": [
    "rf = RandomForestClassifier()"
   ]
  },
  {
   "cell_type": "code",
   "execution_count": 37,
   "metadata": {},
   "outputs": [
    {
     "data": {
      "text/plain": [
       "RandomForestClassifier(bootstrap=True, class_weight=None, criterion='gini',\n",
       "            max_depth=None, max_features='auto', max_leaf_nodes=None,\n",
       "            min_impurity_decrease=0.0, min_impurity_split=None,\n",
       "            min_samples_leaf=1, min_samples_split=2,\n",
       "            min_weight_fraction_leaf=0.0, n_estimators=10, n_jobs=1,\n",
       "            oob_score=False, random_state=None, verbose=0,\n",
       "            warm_start=False)"
      ]
     },
     "execution_count": 37,
     "metadata": {},
     "output_type": "execute_result"
    }
   ],
   "source": [
    "rf.fit(X_train_sc, y_train)"
   ]
  },
  {
   "cell_type": "code",
   "execution_count": 38,
   "metadata": {},
   "outputs": [
    {
     "name": "stdout",
     "output_type": "stream",
     "text": [
      "Train CV Scores: [0.66675858 0.66383919 0.66332746]\n",
      "Average Train CV Score: 0.6646417456107995\n"
     ]
    }
   ],
   "source": [
    "# training scores\n",
    "cv_scores = cross_val_score(rf, X_train_sc, y_train)\n",
    "print(\"Train CV Scores:\", cv_scores)\n",
    "print(\"Average Train CV Score:\", cv_scores.mean())"
   ]
  },
  {
   "cell_type": "code",
   "execution_count": 39,
   "metadata": {},
   "outputs": [
    {
     "name": "stdout",
     "output_type": "stream",
     "text": [
      "Test CV Scores: [0.64874309 0.64680026 0.64815409]\n",
      "Average Test CV Score: 0.6478991468640851\n"
     ]
    }
   ],
   "source": [
    "# test scores\n",
    "cv_scores = cross_val_score(logreg, X_test_sc, y_test)\n",
    "print(\"Test CV Scores:\", cv_scores)\n",
    "print(\"Average Test CV Score:\", cv_scores.mean())"
   ]
  },
  {
   "cell_type": "markdown",
   "metadata": {},
   "source": [
    "## A/B Testing"
   ]
  },
  {
   "cell_type": "markdown",
   "metadata": {},
   "source": [
    "1. Is there a statistically significant difference between outcomes based only on race?\n",
    "\n",
    "Given the simplicity of the model, I want to look more specifically at one charge compared against different court districts in densely populated areas and more rural areas to see if there are statistically significant differences in outcomes based on race. Since speeding infractions are so prevalent, I'll use those for comparison."
   ]
  },
  {
   "cell_type": "code",
   "execution_count": 40,
   "metadata": {},
   "outputs": [],
   "source": [
    "# INF: Speeding \n",
    "# counties around the three main population centers in Virginia\n",
    "fairfax_speedingINF = df_full[(df_full['ChargeType'] == 'INF: Speeding') &\n",
    "                                (df_full['Court'] == 'Fairfax County')]\n",
    "\n",
    "vabeach_speedingINF = df_full[(df_full['ChargeType'] == 'INF: Speeding') &\n",
    "                                (df_full['Court'] == 'Virginia Beach City')]\n",
    "\n",
    "henrico_speedingINF = df_full[(df_full['ChargeType'] == 'INF: Speeding') &\n",
    "                             (df_full['Court'] == 'Henrico County')]\n",
    "\n",
    "# more rural counties\n",
    "henry_speedingINF = df_full[(df_full['ChargeType'] == 'INF: Speeding') &\n",
    "                           (df_full['Court'] == 'Henry County')]\n",
    "\n",
    "augusta_speedingINF = df_full[(df_full['ChargeType'] == 'INF: Speeding') &\n",
    "                             (df_full['Court'] == 'Augusta County')]\n",
    "\n",
    "wythe_speedingINF = df_full[(df_full['ChargeType'] == 'INF: Speeding') &\n",
    "                             (df_full['Court'] == 'Wythe County')]"
   ]
  },
  {
   "cell_type": "code",
   "execution_count": 41,
   "metadata": {},
   "outputs": [
    {
     "data": {
      "text/plain": [
       "F_onewayResult(statistic=49.414661785077506, pvalue=4.764734641753867e-22)"
      ]
     },
     "execution_count": 41,
     "metadata": {},
     "output_type": "execute_result"
    }
   ],
   "source": [
    "# racial disparity in Fairfax County\n",
    "stats.f_oneway(fairfax_speedingINF[(fairfax_speedingINF['Race'] == \n",
    "                                   'White Caucasian(Non-Hispanic)') &\n",
    "                                  (fairfax_speedingINF['Contested'] == 1)]['Total_Positive'],\n",
    "              fairfax_speedingINF[(fairfax_speedingINF['Race'] == \n",
    "                                   'Black(Non-Hispanic)') & \n",
    "                                 (fairfax_speedingINF['Contested'] == 1)]['Total_Positive'],\n",
    "              fairfax_speedingINF[(fairfax_speedingINF['Race'] == \n",
    "                                   'Hispanic') & \n",
    "                                  (fairfax_speedingINF['Contested'] == 1)]['Total_Positive'])"
   ]
  },
  {
   "cell_type": "markdown",
   "metadata": {},
   "source": [
    "Using a significance level of $\\alpha = 0.05$,  the p-value is sufficiently small that we can reject the null hypothesis that the average outcome for different racial groups going to court in Fairfax to fight speeding infraction tickets is the same. "
   ]
  },
  {
   "cell_type": "code",
   "execution_count": 42,
   "metadata": {},
   "outputs": [
    {
     "data": {
      "text/plain": [
       "F_onewayResult(statistic=2.431726949967602, pvalue=0.08896922141236538)"
      ]
     },
     "execution_count": 42,
     "metadata": {},
     "output_type": "execute_result"
    }
   ],
   "source": [
    "# racial disparity in Henry County\n",
    "stats.f_oneway(henry_speedingINF[(henry_speedingINF['Race'] == \n",
    "                                   'White Caucasian(Non-Hispanic)') &\n",
    "                                  (henry_speedingINF['Contested'] == 1)]['Total_Positive'],\n",
    "              henry_speedingINF[(henry_speedingINF['Race'] == \n",
    "                                   'Black(Non-Hispanic)') & \n",
    "                                 (henry_speedingINF['Contested'] == 1)]['Total_Positive'],\n",
    "              henry_speedingINF[(henry_speedingINF['Race'] == \n",
    "                                   'Hispanic') & \n",
    "                                  (henry_speedingINF['Contested'] == 1)]['Total_Positive'])"
   ]
  },
  {
   "cell_type": "markdown",
   "metadata": {},
   "source": [
    "Using a significance level of $\\alpha = 0.05$,  the p-value is not small enought to reject the null hypothesis that the average outcome for different racial groups going to court in Henry County to fight speeding infraction tickets is the same. "
   ]
  },
  {
   "cell_type": "code",
   "execution_count": 43,
   "metadata": {},
   "outputs": [
    {
     "data": {
      "text/plain": [
       "F_onewayResult(statistic=63.6800813638227, pvalue=4.3776525144221755e-28)"
      ]
     },
     "execution_count": 43,
     "metadata": {},
     "output_type": "execute_result"
    }
   ],
   "source": [
    "# racial disparity in Henrico County\n",
    "stats.f_oneway(henrico_speedingINF[(henrico_speedingINF['Race'] == \n",
    "                                   'White Caucasian(Non-Hispanic)') &\n",
    "                                  (henrico_speedingINF['Contested'] == 1)]['Total_Positive'],\n",
    "              henrico_speedingINF[(henrico_speedingINF['Race'] == \n",
    "                                   'Black(Non-Hispanic)') & \n",
    "                                 (henrico_speedingINF['Contested'] == 1)]['Total_Positive'],\n",
    "              henrico_speedingINF[(henrico_speedingINF['Race'] == \n",
    "                                   'Hispanic') & \n",
    "                                  (henrico_speedingINF['Contested'] == 1)]['Total_Positive'])"
   ]
  },
  {
   "cell_type": "markdown",
   "metadata": {},
   "source": [
    "Using a significance level of $\\alpha = 0.05$,  the p-value is sufficiently small that we can reject the null hypothesis that the average outcome for different racial groups going to court in Henrico County to fight speeding infraction tickets is the same. "
   ]
  },
  {
   "cell_type": "code",
   "execution_count": 44,
   "metadata": {},
   "outputs": [
    {
     "data": {
      "text/plain": [
       "F_onewayResult(statistic=71.82730940264267, pvalue=3.3567634267641767e-31)"
      ]
     },
     "execution_count": 44,
     "metadata": {},
     "output_type": "execute_result"
    }
   ],
   "source": [
    "# racial disparity in Virginia Beach\n",
    "stats.f_oneway(vabeach_speedingINF[(vabeach_speedingINF['Race'] == \n",
    "                                   'White Caucasian(Non-Hispanic)') &\n",
    "                                  (vabeach_speedingINF['Contested'] == 1)]['Total_Positive'],\n",
    "              vabeach_speedingINF[(vabeach_speedingINF['Race'] == \n",
    "                                   'Black(Non-Hispanic)') & \n",
    "                                 (vabeach_speedingINF['Contested'] == 1)]['Total_Positive'],\n",
    "              vabeach_speedingINF[(vabeach_speedingINF['Race'] == \n",
    "                                   'Hispanic') & \n",
    "                                  (vabeach_speedingINF['Contested'] == 1)]['Total_Positive'])"
   ]
  },
  {
   "cell_type": "markdown",
   "metadata": {},
   "source": [
    "Using a significance level of $\\alpha = 0.05$,  the p-value is sufficiently small that we can reject the null hypothesis that the average outcome for different racial groups going to court in Virginia Beach to fight speeding infraction tickets is the same. "
   ]
  },
  {
   "cell_type": "code",
   "execution_count": 45,
   "metadata": {},
   "outputs": [
    {
     "data": {
      "text/plain": [
       "F_onewayResult(statistic=10.71729880917922, pvalue=2.5050444229040484e-05)"
      ]
     },
     "execution_count": 45,
     "metadata": {},
     "output_type": "execute_result"
    }
   ],
   "source": [
    "# racial disparity in Augusta County\n",
    "stats.f_oneway(augusta_speedingINF[(augusta_speedingINF['Race'] == \n",
    "                                   'White Caucasian(Non-Hispanic)') &\n",
    "                                  (augusta_speedingINF['Contested'] == 1)]['Total_Positive'],\n",
    "              augusta_speedingINF[(augusta_speedingINF['Race'] == \n",
    "                                   'Black(Non-Hispanic)') & \n",
    "                                 (augusta_speedingINF['Contested'] == 1)]['Total_Positive'],\n",
    "              augusta_speedingINF[(augusta_speedingINF['Race'] == \n",
    "                                   'Hispanic') & \n",
    "                                  (augusta_speedingINF['Contested'] == 1)]['Total_Positive'])"
   ]
  },
  {
   "cell_type": "markdown",
   "metadata": {},
   "source": [
    "Using a significance level of $\\alpha = 0.05$,  the p-value is sufficiently small that we can reject the null hypothesis that the average outcome for different racial groups going to court in Augusta County to fight speeding infraction tickets is the same. "
   ]
  },
  {
   "cell_type": "code",
   "execution_count": 46,
   "metadata": {},
   "outputs": [
    {
     "data": {
      "text/plain": [
       "F_onewayResult(statistic=1.936145955760662, pvalue=0.1445334069650812)"
      ]
     },
     "execution_count": 46,
     "metadata": {},
     "output_type": "execute_result"
    }
   ],
   "source": [
    "# racial disparity in Wythe County\n",
    "stats.f_oneway(wythe_speedingINF[(wythe_speedingINF['Race'] == \n",
    "                                   'White Caucasian(Non-Hispanic)') &\n",
    "                                  (wythe_speedingINF['Contested'] == 1)]['Total_Positive'],\n",
    "              wythe_speedingINF[(wythe_speedingINF['Race'] == \n",
    "                                   'Black(Non-Hispanic)') & \n",
    "                                 (wythe_speedingINF['Contested'] == 1)]['Total_Positive'],\n",
    "              wythe_speedingINF[(wythe_speedingINF['Race'] == \n",
    "                                   'Hispanic') & \n",
    "                                  (wythe_speedingINF['Contested'] == 1)]['Total_Positive'])"
   ]
  },
  {
   "cell_type": "markdown",
   "metadata": {},
   "source": [
    "Using a significance level of $\\alpha = 0.05$,  the p-value is not small enought to reject the null hypothesis that the average outcome for different racial groups going to court in Wythe County to fight speeding infraction tickets is the same. "
   ]
  },
  {
   "cell_type": "markdown",
   "metadata": {},
   "source": [
    "##### Demographic makeup of 6 Counties' Speeding Infraction caseloads"
   ]
  },
  {
   "cell_type": "code",
   "execution_count": 47,
   "metadata": {},
   "outputs": [
    {
     "data": {
      "text/plain": [
       "White Caucasian(Non-Hispanic)              0.621266\n",
       "Black(Non-Hispanic)                        0.191439\n",
       "Asian Or Pacific Islander                  0.073240\n",
       "Hispanic                                   0.055793\n",
       "Other(Includes Not Applicable, Unknown)    0.054306\n",
       "American Indian                            0.003957\n",
       "Name: Race, dtype: float64"
      ]
     },
     "execution_count": 47,
     "metadata": {},
     "output_type": "execute_result"
    }
   ],
   "source": [
    "fairfax_speedingINF['Race'].value_counts(normalize = True)"
   ]
  },
  {
   "cell_type": "code",
   "execution_count": 48,
   "metadata": {},
   "outputs": [
    {
     "data": {
      "text/plain": [
       "White Caucasian(Non-Hispanic)              0.602959\n",
       "Black(Non-Hispanic)                        0.323413\n",
       "Other(Includes Not Applicable, Unknown)    0.026492\n",
       "Asian Or Pacific Islander                  0.025116\n",
       "Hispanic                                   0.020815\n",
       "American Indian                            0.001204\n",
       "Name: Race, dtype: float64"
      ]
     },
     "execution_count": 48,
     "metadata": {},
     "output_type": "execute_result"
    }
   ],
   "source": [
    "vabeach_speedingINF['Race'].value_counts(normalize = True)"
   ]
  },
  {
   "cell_type": "code",
   "execution_count": 49,
   "metadata": {},
   "outputs": [
    {
     "data": {
      "text/plain": [
       "White Caucasian(Non-Hispanic)              0.495451\n",
       "Black(Non-Hispanic)                        0.437254\n",
       "Asian Or Pacific Islander                  0.032131\n",
       "Other(Includes Not Applicable, Unknown)    0.016775\n",
       "Hispanic                                   0.015291\n",
       "American Indian                            0.003097\n",
       "Name: Race, dtype: float64"
      ]
     },
     "execution_count": 49,
     "metadata": {},
     "output_type": "execute_result"
    }
   ],
   "source": [
    "henrico_speedingINF['Race'].value_counts(normalize = True)"
   ]
  },
  {
   "cell_type": "code",
   "execution_count": 50,
   "metadata": {},
   "outputs": [
    {
     "data": {
      "text/plain": [
       "White Caucasian(Non-Hispanic)              0.642064\n",
       "Black(Non-Hispanic)                        0.322974\n",
       "Hispanic                                   0.026082\n",
       "Other(Includes Not Applicable, Unknown)    0.004994\n",
       "Asian Or Pacific Islander                  0.003885\n",
       "Name: Race, dtype: float64"
      ]
     },
     "execution_count": 50,
     "metadata": {},
     "output_type": "execute_result"
    }
   ],
   "source": [
    "henry_speedingINF['Race'].value_counts(normalize = True)"
   ]
  },
  {
   "cell_type": "code",
   "execution_count": 51,
   "metadata": {},
   "outputs": [
    {
     "data": {
      "text/plain": [
       "White Caucasian(Non-Hispanic)              0.854946\n",
       "Black(Non-Hispanic)                        0.102115\n",
       "Hispanic                                   0.022431\n",
       "Other(Includes Not Applicable, Unknown)    0.013031\n",
       "Asian Or Pacific Islander                  0.005127\n",
       "American Indian                            0.002350\n",
       "Name: Race, dtype: float64"
      ]
     },
     "execution_count": 51,
     "metadata": {},
     "output_type": "execute_result"
    }
   ],
   "source": [
    "augusta_speedingINF['Race'].value_counts(normalize = True)"
   ]
  },
  {
   "cell_type": "code",
   "execution_count": 52,
   "metadata": {
    "scrolled": true
   },
   "outputs": [
    {
     "data": {
      "text/plain": [
       "White Caucasian(Non-Hispanic)              0.812587\n",
       "Black(Non-Hispanic)                        0.142391\n",
       "Other(Includes Not Applicable, Unknown)    0.018315\n",
       "Hispanic                                   0.017316\n",
       "Asian Or Pacific Islander                  0.007259\n",
       "American Indian                            0.002131\n",
       "Name: Race, dtype: float64"
      ]
     },
     "execution_count": 52,
     "metadata": {},
     "output_type": "execute_result"
    }
   ],
   "source": [
    "wythe_speedingINF['Race'].value_counts(normalize = True)"
   ]
  },
  {
   "cell_type": "markdown",
   "metadata": {},
   "source": [
    "2. Is there a statistically significant difference in outcomes when a defendant is represented by a private lawyer or public defender?\n",
    "\n",
    "For this question, I'll look at three different types of charges and compare outcomes with no lawyers, with private lawyers, and with public defenders."
   ]
  },
  {
   "cell_type": "code",
   "execution_count": 53,
   "metadata": {},
   "outputs": [],
   "source": [
    "pd.set_option(\"display.max_columns\", 300)\n",
    "pd.set_option(\"display.max_rows\", 300)"
   ]
  },
  {
   "cell_type": "code",
   "execution_count": 54,
   "metadata": {},
   "outputs": [
    {
     "data": {
      "text/plain": [
       "Virginia Beach City    8955\n",
       "Fairfax County         7104\n",
       "Newport News City      5524\n",
       "Norfolk City           4549\n",
       "Roanoke City           3704\n",
       "Name: Court, dtype: int64"
      ]
     },
     "execution_count": 54,
     "metadata": {},
     "output_type": "execute_result"
    }
   ],
   "source": [
    "# looking for counties that have public defenders for comparison to Fairfax\n",
    "df_full[(df_full['HadLawyer'] == 1) & (df_full['PublicDefender'] == 1)]['Court'].value_counts().head()"
   ]
  },
  {
   "cell_type": "code",
   "execution_count": 55,
   "metadata": {},
   "outputs": [],
   "source": [
    "# Fairfax County, three different charges\n",
    "fairfax_speedingINF = df_full[(df_full['ChargeType'] == 'INF: Speeding') &\n",
    "                                (df_full['Court'] == 'Fairfax County') &\n",
    "                             (df_full['Contested'] == 1)]\n",
    "\n",
    "fairfax_drugsMIS = df_full[(df_full['ChargeType'] == 'MIS: Drug-related Offenses') &\n",
    "                                (df_full['Court'] == 'Fairfax County') &\n",
    "                          (df_full['Contested'] == 1)]\n",
    "\n",
    "fairfax_recklessMIS = df_full[(df_full['ChargeType'] == 'MIS: Reckless Driving') &\n",
    "                             (df_full['Court'] == 'Fairfax County') &\n",
    "                             (df_full['Contested'] == 1)]\n",
    "\n",
    "# Henry County\n",
    "newport_speedingINF = df_full[(df_full['ChargeType'] == 'INF: Speeding') &\n",
    "                                (df_full['Court'] == 'Newport News City') &\n",
    "                           (df_full['Contested'] == 1)]\n",
    "\n",
    "newport_drugsMIS = df_full[(df_full['ChargeType'] == 'MIS: Drug-related Offenses') &\n",
    "                                (df_full['Court'] == 'Newport News City') &\n",
    "                        (df_full['Contested'] == 1)]\n",
    "\n",
    "newport_recklessMIS = df_full[(df_full['ChargeType'] == 'MIS: Reckless Driving') &\n",
    "                             (df_full['Court'] == 'Newport News City') &\n",
    "                           (df_full['Contested'] == 1)]"
   ]
  },
  {
   "cell_type": "markdown",
   "metadata": {},
   "source": [
    "##### Speeding Infractions"
   ]
  },
  {
   "cell_type": "code",
   "execution_count": 56,
   "metadata": {},
   "outputs": [
    {
     "data": {
      "text/plain": [
       "F_onewayResult(statistic=1278.5756090553475, pvalue=1.2297263345182284e-261)"
      ]
     },
     "execution_count": 56,
     "metadata": {},
     "output_type": "execute_result"
    }
   ],
   "source": [
    "# hiring a lawyer for a speeding ticket in Fairfax County\n",
    "stats.f_oneway(fairfax_speedingINF[(fairfax_speedingINF['HadLawyer'] == 1) & # private lawyer\n",
    "                                   (fairfax_speedingINF['PublicDefender'] == 0)]['Total_Positive'],\n",
    "              fairfax_speedingINF[(fairfax_speedingINF['HadLawyer'] == 0) & # self-defense\n",
    "                                  (fairfax_speedingINF['PublicDefender'] == 0)]['Total_Positive'])"
   ]
  },
  {
   "cell_type": "markdown",
   "metadata": {},
   "source": [
    "Using a significance level of $\\alpha = 0.05$,  the p-value is sufficiently small that we can reject the null hypothesis that the average outcome for people who hire lawyers and don't hire lawyers to fight speeding tickets in Fairfax Virginia is the same."
   ]
  },
  {
   "cell_type": "code",
   "execution_count": 57,
   "metadata": {},
   "outputs": [
    {
     "data": {
      "text/plain": [
       "F_onewayResult(statistic=66.02812227596685, pvalue=6.426898636843304e-16)"
      ]
     },
     "execution_count": 57,
     "metadata": {},
     "output_type": "execute_result"
    }
   ],
   "source": [
    "# hiring a lawyer for a speeding ticket in Henry County\n",
    "stats.f_oneway(newport_speedingINF[(newport_speedingINF['HadLawyer'] == 1) & # private lawyer\n",
    "                                   (newport_speedingINF['PublicDefender'] == 0)]['Total_Positive'],\n",
    "              newport_speedingINF[(newport_speedingINF['HadLawyer'] == 0) & # self-defense\n",
    "                                  (newport_speedingINF['PublicDefender'] == 0)]['Total_Positive'])"
   ]
  },
  {
   "cell_type": "markdown",
   "metadata": {},
   "source": [
    "Using a significance level of $\\alpha = 0.05$,  the p-value is sufficiently small that we can reject the null hypothesis that the average outcome for people who hire lawyers and don't hire lawyers to fight speeding tickets in Henry County is the same."
   ]
  },
  {
   "cell_type": "markdown",
   "metadata": {},
   "source": [
    "##### Drug-related Offenses"
   ]
  },
  {
   "cell_type": "code",
   "execution_count": 58,
   "metadata": {},
   "outputs": [
    {
     "data": {
      "text/plain": [
       "F_onewayResult(statistic=608.8808166317361, pvalue=9.031328961742285e-232)"
      ]
     },
     "execution_count": 58,
     "metadata": {},
     "output_type": "execute_result"
    }
   ],
   "source": [
    "# hiring a lawyer for a drug-related offense in Fairfax County\n",
    "stats.f_oneway(fairfax_drugsMIS[(fairfax_drugsMIS['HadLawyer'] == 1) & # private lawyer\n",
    "                                   (fairfax_drugsMIS['PublicDefender'] == 0)]['Total_Positive'],\n",
    "              fairfax_drugsMIS[(fairfax_drugsMIS['HadLawyer'] == 0) & # self-defense\n",
    "                                  (fairfax_drugsMIS['PublicDefender'] == 0)]['Total_Positive'],\n",
    "              fairfax_drugsMIS[(fairfax_drugsMIS['HadLawyer'] == 1) & # public defender\n",
    "                                  (fairfax_drugsMIS['PublicDefender'] == 1)]['Total_Positive'])"
   ]
  },
  {
   "cell_type": "code",
   "execution_count": 59,
   "metadata": {},
   "outputs": [
    {
     "data": {
      "text/plain": [
       "F_onewayResult(statistic=13.880510532634252, pvalue=0.00019872852226414953)"
      ]
     },
     "execution_count": 59,
     "metadata": {},
     "output_type": "execute_result"
    }
   ],
   "source": [
    "# hiring a lawyer/public defender for a drug-related offense in Fairfax\n",
    "stats.f_oneway(fairfax_drugsMIS[(fairfax_drugsMIS['HadLawyer'] == 1) & # private lawyer\n",
    "                                   (fairfax_drugsMIS['PublicDefender'] == 0)]['Total_Positive'],\n",
    "              fairfax_drugsMIS[(fairfax_drugsMIS['HadLawyer'] == 1) & # public defender\n",
    "                                  (fairfax_drugsMIS['PublicDefender'] == 1)]['Total_Positive'])"
   ]
  },
  {
   "cell_type": "markdown",
   "metadata": {},
   "source": [
    "The p-value is significantly small enough in the first test to reject the null hypothesis that outcomes are the same whether someone defends themselves against a drug charge, hires a lawyer, or a public defender. Looking at the second test, the p-value is not sufficiently small to reject the null hypothesis (that outcomes for those who hired private lawyers and public defenders is the same). "
   ]
  },
  {
   "cell_type": "code",
   "execution_count": 60,
   "metadata": {},
   "outputs": [
    {
     "data": {
      "text/plain": [
       "F_onewayResult(statistic=19.85303531798002, pvalue=4.123193944983392e-09)"
      ]
     },
     "execution_count": 60,
     "metadata": {},
     "output_type": "execute_result"
    }
   ],
   "source": [
    "# hiring a lawyer for a drug-related offense in Fairfax County\n",
    "stats.f_oneway(newport_drugsMIS[(newport_drugsMIS['HadLawyer'] == 1) & # private lawyer\n",
    "                                   (newport_drugsMIS['PublicDefender'] == 0)]['Total_Positive'],\n",
    "              newport_drugsMIS[(newport_drugsMIS['HadLawyer'] == 0) & # self-defense\n",
    "                                  (newport_drugsMIS['PublicDefender'] == 0)]['Total_Positive'],\n",
    "              newport_drugsMIS[(newport_drugsMIS['HadLawyer'] == 1) & # public defender\n",
    "                                  (newport_drugsMIS['PublicDefender'] == 1)]['Total_Positive'])"
   ]
  },
  {
   "cell_type": "code",
   "execution_count": 61,
   "metadata": {},
   "outputs": [
    {
     "data": {
      "text/plain": [
       "F_onewayResult(statistic=28.990864084843896, pvalue=1.083397946909075e-07)"
      ]
     },
     "execution_count": 61,
     "metadata": {},
     "output_type": "execute_result"
    }
   ],
   "source": [
    "# hiring a lawyer for a drug-related offense in Fairfax County\n",
    "stats.f_oneway(newport_drugsMIS[(newport_drugsMIS['HadLawyer'] == 1) & # private lawyer\n",
    "                                   (newport_drugsMIS['PublicDefender'] == 0)]['Total_Positive'],\n",
    "              newport_drugsMIS[(newport_drugsMIS['HadLawyer'] == 1) & # public defender\n",
    "                                  (newport_drugsMIS['PublicDefender'] == 1)]['Total_Positive'])"
   ]
  },
  {
   "cell_type": "markdown",
   "metadata": {},
   "source": [
    "Looking at the first test, the p-value is sufficiently small to reject the null hypothesis that there is a difference in outcomes for defendants fighting drug charges in Newport News based on whether they hired lawyers, defended themselves, or had public defenders. So outcomes are probably different; in the second test, the p-value is still sufficiently small for us to reject the null that there is no difference between hiring a private lawyer and public defender."
   ]
  },
  {
   "cell_type": "markdown",
   "metadata": {},
   "source": [
    "##### Reckless Driving"
   ]
  },
  {
   "cell_type": "code",
   "execution_count": 62,
   "metadata": {},
   "outputs": [
    {
     "data": {
      "text/plain": [
       "F_onewayResult(statistic=885.0497734980366, pvalue=0.0)"
      ]
     },
     "execution_count": 62,
     "metadata": {},
     "output_type": "execute_result"
    }
   ],
   "source": [
    "# hiring a lawyer for reckless driving in Fairfax County\n",
    "stats.f_oneway(fairfax_recklessMIS[(fairfax_recklessMIS['HadLawyer'] == 1) & # private lawyer\n",
    "                                   (fairfax_recklessMIS['PublicDefender'] == 0)]['Total_Positive'],\n",
    "              fairfax_recklessMIS[(fairfax_recklessMIS['HadLawyer'] == 0) & # self-defense\n",
    "                                  (fairfax_recklessMIS['PublicDefender'] == 0)]['Total_Positive'],\n",
    "              fairfax_recklessMIS[(fairfax_recklessMIS['HadLawyer'] == 1) & # public defender\n",
    "                                  (fairfax_recklessMIS['PublicDefender'] == 1)]['Total_Positive'])"
   ]
  },
  {
   "cell_type": "code",
   "execution_count": 63,
   "metadata": {},
   "outputs": [
    {
     "data": {
      "text/plain": [
       "F_onewayResult(statistic=319.8426900258519, pvalue=1.5447372231142508e-69)"
      ]
     },
     "execution_count": 63,
     "metadata": {},
     "output_type": "execute_result"
    }
   ],
   "source": [
    "# hiring a lawyer for reckless driving in Fairfax County\n",
    "stats.f_oneway(fairfax_recklessMIS[(fairfax_recklessMIS['HadLawyer'] == 1) & # private lawyer\n",
    "                                   (fairfax_recklessMIS['PublicDefender'] == 0)]['Total_Positive'],\n",
    "              fairfax_recklessMIS[(fairfax_recklessMIS['HadLawyer'] == 1) & # public defender\n",
    "                                  (fairfax_recklessMIS['PublicDefender'] == 1)]['Total_Positive'])"
   ]
  },
  {
   "cell_type": "markdown",
   "metadata": {},
   "source": [
    "The p-value is significantly small to reject the null hypothesis and accept the alternative (that there is a statistically significant difference in outcome for reckless driving cases in Fairfax County based on whether someone hires a lawyer, defends themselves, or hires a public defender.)"
   ]
  },
  {
   "cell_type": "code",
   "execution_count": 64,
   "metadata": {},
   "outputs": [
    {
     "data": {
      "text/plain": [
       "F_onewayResult(statistic=2.131339280144721, pvalue=0.12545274656026734)"
      ]
     },
     "execution_count": 64,
     "metadata": {},
     "output_type": "execute_result"
    }
   ],
   "source": [
    "# hiring a lawyer for a drug-related offense in Fairfax County\n",
    "stats.f_oneway(newport_recklessMIS[(newport_recklessMIS['HadLawyer'] == 1) & # private lawyer\n",
    "                                   (newport_recklessMIS['PublicDefender'] == 0)]['Total_Positive'],\n",
    "              newport_recklessMIS[(newport_recklessMIS['HadLawyer'] == 0) & # self-defense\n",
    "                                  (newport_recklessMIS['PublicDefender'] == 0)]['Total_Positive'],\n",
    "              newport_recklessMIS[(newport_recklessMIS['HadLawyer'] == 1) & # public defender\n",
    "                                  (newport_recklessMIS['PublicDefender'] == 1)]['Total_Positive'])"
   ]
  },
  {
   "cell_type": "markdown",
   "metadata": {},
   "source": [
    "The p-value is not sufficiently small to reject the null hypothesis that the average outcome for reckless driving defendants is the same (whether they hire private lawyers, public defenders, or defend themselves.)"
   ]
  }
 ],
 "metadata": {
  "kernelspec": {
   "display_name": "Python 3",
   "language": "python",
   "name": "python3"
  },
  "language_info": {
   "codemirror_mode": {
    "name": "ipython",
    "version": 3
   },
   "file_extension": ".py",
   "mimetype": "text/x-python",
   "name": "python",
   "nbconvert_exporter": "python",
   "pygments_lexer": "ipython3",
   "version": "3.6.5"
  }
 },
 "nbformat": 4,
 "nbformat_minor": 2
}
